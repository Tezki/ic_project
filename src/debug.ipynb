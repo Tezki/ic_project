{
 "cells": [
  {
   "cell_type": "code",
   "execution_count": 1,
   "metadata": {},
   "outputs": [],
   "source": [
    "from ilasp.generator.ilasp_task_generator import generate_ilasp_task"
   ]
  },
  {
   "cell_type": "code",
   "execution_count": 2,
   "metadata": {},
   "outputs": [],
   "source": [
    "#def generate_ilasp_task(num_states, accepting_state, rejecting_state, predicates, observables, goal_examples, dend_examples,\n",
    "                        #inc_examples, num_variables, learn_explicit, output_folder, output_filename)\n",
    "\n",
    "generate_ilasp_task(3, \"u_acc\", \"u_rej\", [\"lmk\", \"obt\", \"bld\"], [[\"ms\",\"wf\",\"cv\",\"pk\"],[\"ft\",\"wf\",\"mt\",\"ml\"],[\"ms\",\"sc\",\"ch\",\"ml\"]], [[[\"pk\"]],[[\"mt\"],[\"sc\"],[\"cv\"]]],[[[\"ms\"],[\"sc\"],[\"wf\"]],[[\"ft\"]]],[[[\"mt\"],[\"ms\"]]],2, True, \"\", \"f_test.ilasp\")\n",
    "# generate_ilasp_task(4, \"u_acc\", \"u_rej\", [\"lmk\", \"obt\", \"bld\"], [[\"ms\",\"wf\",\"cv\",\"pk\"],[\"ft\",\"wf\",\"mt\",\"ml\"],[\"ms\",\"sc\",\"ch\",\"ml\"]], [[[\"ms\"],[\"cv\"]],[[\"ch\"],[\"sc\"],[\"ch\"],[\"ms\"],[\"pk\"]]],[[[\"cv\"],[\"ch\"],[\"wf\"]],[[\"ms\"],[\"wf\"]]],[[[\"pk\"],[\"cv\"]],[[\"ch\"],[\"cv\"]],[[\"ch\"],[],[\"ms\"],[\"ms\"]],[[\"sc\"],[],[],[\"cv\"],[\"pk\"]],[[\"sc\"],[],[\"ms\"],[],[\"ch\"]]], 2, False, \"\", \"f_test.ilasp\")"
   ]
  },
  {
   "cell_type": "code",
   "execution_count": 3,
   "metadata": {},
   "outputs": [],
   "source": [
    "from ilasp.solver.ilasp_solver import solve_ilasp_task"
   ]
  },
  {
   "cell_type": "code",
   "execution_count": 4,
   "metadata": {},
   "outputs": [
    {
     "data": {
      "text/plain": [
       "True"
      ]
     },
     "execution_count": 4,
     "metadata": {},
     "output_type": "execute_result"
    }
   ],
   "source": [
    "# def solve_ilasp_task(ilasp_problem_filename, output_filename, version=\"4\", max_body_literals=3,\n",
    "#timeout=60*10, binary_folder_name=None, compute_minimal=False, operation=ILASP_OPERATION_SOLVE):\n",
    "\n",
    "solve_ilasp_task(\"f_test.ilasp\",\"f_out.txt\",max_body_literals=4,binary_folder_name=\"../../../../ilasp/\")"
   ]
  },
  {
   "cell_type": "code",
   "execution_count": 5,
   "metadata": {},
   "outputs": [],
   "source": [
    "from ilasp.parser.ilasp_solution_parser import parse_ilasp_solutions"
   ]
  },
  {
   "cell_type": "code",
   "execution_count": 6,
   "metadata": {},
   "outputs": [],
   "source": [
    "auto = parse_ilasp_solutions(\"f_out.txt\")"
   ]
  },
  {
   "cell_type": "code",
   "execution_count": 7,
   "metadata": {},
   "outputs": [
    {
     "data": {
      "text/plain": [
       "{'u_rej': [(EdgeCondition(condition=('obs(V2,V1); obt(V2); not eq(V2,mt)',)),\n",
       "   'u_rej')],\n",
       " 'u0': [(EdgeCondition(condition=('obs(V2,V1); not obt(V2); not bld(V2); not rej_cond(V1)',)),\n",
       "   'u_acc'),\n",
       "  (EdgeCondition(condition=('obs(V2,V1); obt(V2); not eq(V2,mt)',)), 'u_rej')],\n",
       " 'u_acc': []}"
      ]
     },
     "execution_count": 7,
     "metadata": {},
     "output_type": "execute_result"
    }
   ],
   "source": [
    "auto.edges"
   ]
  },
  {
   "cell_type": "code",
   "execution_count": 8,
   "metadata": {},
   "outputs": [],
   "source": [
    "auto.set_reject_state(\"u_rej\")"
   ]
  },
  {
   "cell_type": "code",
   "execution_count": 13,
   "metadata": {},
   "outputs": [
    {
     "data": {
      "text/plain": [
       "'u_rej'"
      ]
     },
     "execution_count": 13,
     "metadata": {},
     "output_type": "execute_result"
    }
   ],
   "source": [
    "auto.get_next_state(\"u0\", [\"obs(wf,1)\"], [\"lmk\", \"obt\", \"bld\"], [[\"ms\",\"wf\",\"cv\",\"pk\"],[\"ft\",\"wf\",\"mt\",\"ml\"],[\"ms\",\"sc\",\"ch\",\"ml\"]])"
   ]
  },
  {
   "cell_type": "code",
   "execution_count": null,
   "metadata": {},
   "outputs": [],
   "source": []
  },
  {
   "cell_type": "code",
   "execution_count": null,
   "metadata": {},
   "outputs": [],
   "source": []
  },
  {
   "cell_type": "code",
   "execution_count": 1,
   "metadata": {},
   "outputs": [],
   "source": [
    "from gym_subgoal_automata.envs.geoworld.geoworld_env import TestEnv"
   ]
  },
  {
   "cell_type": "code",
   "execution_count": 2,
   "metadata": {},
   "outputs": [],
   "source": [
    "test_env = TestEnv()"
   ]
  },
  {
   "cell_type": "code",
   "execution_count": 8,
   "metadata": {},
   "outputs": [
    {
     "data": {
      "text/plain": [
       "'u_acc'"
      ]
     },
     "execution_count": 8,
     "metadata": {},
     "output_type": "execute_result"
    }
   ],
   "source": [
    "test_env.get_automaton().get_next_state(\"u0\", [\"sc\"], [\"lmk\", \"obt\", \"bld\"], [[\"ms\",\"wf\",\"cv\",\"pk\"],[\"ft\",\"wf\",\"mt\",\"ml\"],[\"ms\",\"sc\",\"ch\",\"ml\"]])"
   ]
  },
  {
   "cell_type": "code",
   "execution_count": null,
   "metadata": {},
   "outputs": [],
   "source": []
  },
  {
   "cell_type": "code",
   "execution_count": 3,
   "metadata": {},
   "outputs": [
    {
     "name": "stdout",
     "output_type": "stream",
     "text": [
      "u0\n",
      "{}\n"
     ]
    },
    {
     "data": {
      "text/plain": [
       "153"
      ]
     },
     "execution_count": 3,
     "metadata": {},
     "output_type": "execute_result"
    }
   ],
   "source": [
    "test_env.reset()"
   ]
  },
  {
   "cell_type": "code",
   "execution_count": 4,
   "metadata": {},
   "outputs": [
    {
     "data": {
      "text/plain": [
       "{'u0': [(EdgeCondition(condition=('obs(V2,V1); not bld(V2); not rej_cond(V1)',)),\n",
       "   'u_acc'),\n",
       "  (EdgeCondition(condition=('obs(V2,V1); obt(V2)',)), 'u_rej')],\n",
       " 'u_acc': [],\n",
       " 'u_rej': [(EdgeCondition(condition=('obs(V2,V1); obt(V2)',)), 'u_rej')]}"
      ]
     },
     "execution_count": 4,
     "metadata": {},
     "output_type": "execute_result"
    }
   ],
   "source": [
    "test_env.automaton.edges"
   ]
  },
  {
   "cell_type": "code",
   "execution_count": 5,
   "metadata": {},
   "outputs": [
    {
     "name": "stdout",
     "output_type": "stream",
     "text": [
      "u0\n",
      "{}\n",
      "XXXXXXXXXXXXXXXXXXXXXXXXXXXXXXXXXXXXXXXXX\n",
      "X                                       X\n",
      "X                                 ml     X\n",
      "X   A                                   X\n",
      "X                                       X\n",
      "X      wf                               pkX\n",
      "X                                       X\n",
      "X  wf                                    X\n",
      "X                                      ftX\n",
      "X                                       X\n",
      "X                                 cv     X\n",
      "X                                       X\n",
      "X                                       X\n",
      "X                            ft          X\n",
      "X ft                     pk               X\n",
      "X                       ml               X\n",
      "X      ch                                X\n",
      "X    sc                                  X\n",
      "X            ft                          X\n",
      "X                                       X\n",
      "X                                       X\n",
      "X                                       X\n",
      "X   mt  cv                     sc   ft  mt   X\n",
      "X                    cvml                 X\n",
      "X                                       X\n",
      "X                       ch               X\n",
      "X     pk                                 X\n",
      "X          ml                ms           X\n",
      "X        ch                              X\n",
      "X       pk                               X\n",
      "X                                       X\n",
      "X                                       X\n",
      "X pk       wf                             X\n",
      "X                                       X\n",
      "X                                      msX\n",
      "X                                    sc  X\n",
      "X                                       X\n",
      "X                                       X\n",
      "X                                       X\n",
      "X                                       X\n",
      "XXXXXXXXXXXXXXXXXXXXXXXXXXXXXXXXXXXXXXXXX\n",
      "u0\n",
      "{}\n",
      "XXXXXXXXXXXXXXXXXXXXXXXXXXXXXXXXXXXXXXXXX\n",
      "X                                       X\n",
      "X   A                             ml     X\n",
      "X                                       X\n",
      "X                                       X\n",
      "X      wf                               pkX\n",
      "X                                       X\n",
      "X  wf                                    X\n",
      "X                                      ftX\n",
      "X                                       X\n",
      "X                                 cv     X\n",
      "X                                       X\n",
      "X                                       X\n",
      "X                            ft          X\n",
      "X ft                     pk               X\n",
      "X                       ml               X\n",
      "X      ch                                X\n",
      "X    sc                                  X\n",
      "X            ft                          X\n",
      "X                                       X\n",
      "X                                       X\n",
      "X                                       X\n",
      "X   mt  cv                     sc   ft  mt   X\n",
      "X                    cvml                 X\n",
      "X                                       X\n",
      "X                       ch               X\n",
      "X     pk                                 X\n",
      "X          ml                ms           X\n",
      "X        ch                              X\n",
      "X       pk                               X\n",
      "X                                       X\n",
      "X                                       X\n",
      "X pk       wf                             X\n",
      "X                                       X\n",
      "X                                      msX\n",
      "X                                    sc  X\n",
      "X                                       X\n",
      "X                                       X\n",
      "X                                       X\n",
      "X                                       X\n",
      "XXXXXXXXXXXXXXXXXXXXXXXXXXXXXXXXXXXXXXXXX\n",
      "u0\n",
      "{}\n",
      "XXXXXXXXXXXXXXXXXXXXXXXXXXXXXXXXXXXXXXXXX\n",
      "X                                       X\n",
      "X                                 ml     X\n",
      "X   A                                   X\n",
      "X                                       X\n",
      "X      wf                               pkX\n",
      "X                                       X\n",
      "X  wf                                    X\n",
      "X                                      ftX\n",
      "X                                       X\n",
      "X                                 cv     X\n",
      "X                                       X\n",
      "X                                       X\n",
      "X                            ft          X\n",
      "X ft                     pk               X\n",
      "X                       ml               X\n",
      "X      ch                                X\n",
      "X    sc                                  X\n",
      "X            ft                          X\n",
      "X                                       X\n",
      "X                                       X\n",
      "X                                       X\n",
      "X   mt  cv                     sc   ft  mt   X\n",
      "X                    cvml                 X\n",
      "X                                       X\n",
      "X                       ch               X\n",
      "X     pk                                 X\n",
      "X          ml                ms           X\n",
      "X        ch                              X\n",
      "X       pk                               X\n",
      "X                                       X\n",
      "X                                       X\n",
      "X pk       wf                             X\n",
      "X                                       X\n",
      "X                                      msX\n",
      "X                                    sc  X\n",
      "X                                       X\n",
      "X                                       X\n",
      "X                                       X\n",
      "X                                       X\n",
      "XXXXXXXXXXXXXXXXXXXXXXXXXXXXXXXXXXXXXXXXX\n",
      "u0\n",
      "{}\n",
      "XXXXXXXXXXXXXXXXXXXXXXXXXXXXXXXXXXXXXXXXX\n",
      "X                                       X\n",
      "X                                 ml     X\n",
      "X                                       X\n",
      "X   A                                   X\n",
      "X      wf                               pkX\n",
      "X                                       X\n",
      "X  wf                                    X\n",
      "X                                      ftX\n",
      "X                                       X\n",
      "X                                 cv     X\n",
      "X                                       X\n",
      "X                                       X\n",
      "X                            ft          X\n",
      "X ft                     pk               X\n",
      "X                       ml               X\n",
      "X      ch                                X\n",
      "X    sc                                  X\n",
      "X            ft                          X\n",
      "X                                       X\n",
      "X                                       X\n",
      "X                                       X\n",
      "X   mt  cv                     sc   ft  mt   X\n",
      "X                    cvml                 X\n",
      "X                                       X\n",
      "X                       ch               X\n",
      "X     pk                                 X\n",
      "X          ml                ms           X\n",
      "X        ch                              X\n",
      "X       pk                               X\n",
      "X                                       X\n",
      "X                                       X\n",
      "X pk       wf                             X\n",
      "X                                       X\n",
      "X                                      msX\n",
      "X                                    sc  X\n",
      "X                                       X\n",
      "X                                       X\n",
      "X                                       X\n",
      "X                                       X\n",
      "XXXXXXXXXXXXXXXXXXXXXXXXXXXXXXXXXXXXXXXXX\n",
      "u0\n",
      "{}\n",
      "XXXXXXXXXXXXXXXXXXXXXXXXXXXXXXXXXXXXXXXXX\n",
      "X                                       X\n",
      "X                                 ml     X\n",
      "X                                       X\n",
      "X                                       X\n",
      "X   A  wf                               pkX\n",
      "X                                       X\n",
      "X  wf                                    X\n",
      "X                                      ftX\n",
      "X                                       X\n",
      "X                                 cv     X\n",
      "X                                       X\n",
      "X                                       X\n",
      "X                            ft          X\n",
      "X ft                     pk               X\n",
      "X                       ml               X\n",
      "X      ch                                X\n",
      "X    sc                                  X\n",
      "X            ft                          X\n",
      "X                                       X\n",
      "X                                       X\n",
      "X                                       X\n",
      "X   mt  cv                     sc   ft  mt   X\n",
      "X                    cvml                 X\n",
      "X                                       X\n",
      "X                       ch               X\n",
      "X     pk                                 X\n",
      "X          ml                ms           X\n",
      "X        ch                              X\n",
      "X       pk                               X\n",
      "X                                       X\n",
      "X                                       X\n",
      "X pk       wf                             X\n",
      "X                                       X\n",
      "X                                      msX\n",
      "X                                    sc  X\n",
      "X                                       X\n",
      "X                                       X\n",
      "X                                       X\n",
      "X                                       X\n",
      "XXXXXXXXXXXXXXXXXXXXXXXXXXXXXXXXXXXXXXXXX\n",
      "u0\n",
      "{}\n",
      "XXXXXXXXXXXXXXXXXXXXXXXXXXXXXXXXXXXXXXXXX\n",
      "X                                       X\n",
      "X                                 ml     X\n",
      "X                                       X\n",
      "X                                       X\n",
      "X    A wf                               pkX\n",
      "X                                       X\n",
      "X  wf                                    X\n",
      "X                                      ftX\n",
      "X                                       X\n",
      "X                                 cv     X\n",
      "X                                       X\n",
      "X                                       X\n",
      "X                            ft          X\n",
      "X ft                     pk               X\n",
      "X                       ml               X\n",
      "X      ch                                X\n",
      "X    sc                                  X\n",
      "X            ft                          X\n",
      "X                                       X\n",
      "X                                       X\n",
      "X                                       X\n",
      "X   mt  cv                     sc   ft  mt   X\n",
      "X                    cvml                 X\n",
      "X                                       X\n",
      "X                       ch               X\n",
      "X     pk                                 X\n",
      "X          ml                ms           X\n",
      "X        ch                              X\n",
      "X       pk                               X\n",
      "X                                       X\n",
      "X                                       X\n",
      "X pk       wf                             X\n",
      "X                                       X\n",
      "X                                      msX\n",
      "X                                    sc  X\n",
      "X                                       X\n",
      "X                                       X\n",
      "X                                       X\n",
      "X                                       X\n",
      "XXXXXXXXXXXXXXXXXXXXXXXXXXXXXXXXXXXXXXXXX\n",
      "u0\n",
      "{}\n",
      "XXXXXXXXXXXXXXXXXXXXXXXXXXXXXXXXXXXXXXXXX\n",
      "X                                       X\n",
      "X                                 ml     X\n",
      "X                                       X\n",
      "X                                       X\n",
      "X     Awf                               pkX\n",
      "X                                       X\n",
      "X  wf                                    X\n",
      "X                                      ftX\n",
      "X                                       X\n",
      "X                                 cv     X\n",
      "X                                       X\n",
      "X                                       X\n",
      "X                            ft          X\n",
      "X ft                     pk               X\n",
      "X                       ml               X\n",
      "X      ch                                X\n",
      "X    sc                                  X\n",
      "X            ft                          X\n",
      "X                                       X\n",
      "X                                       X\n",
      "X                                       X\n",
      "X   mt  cv                     sc   ft  mt   X\n",
      "X                    cvml                 X\n",
      "X                                       X\n",
      "X                       ch               X\n",
      "X     pk                                 X\n",
      "X          ml                ms           X\n",
      "X        ch                              X\n",
      "X       pk                               X\n",
      "X                                       X\n",
      "X                                       X\n",
      "X pk       wf                             X\n",
      "X                                       X\n",
      "X                                      msX\n",
      "X                                    sc  X\n",
      "X                                       X\n",
      "X                                       X\n",
      "X                                       X\n",
      "X                                       X\n",
      "XXXXXXXXXXXXXXXXXXXXXXXXXXXXXXXXXXXXXXXXX\n",
      "u_rej\n",
      "{'wf'}\n",
      "XXXXXXXXXXXXXXXXXXXXXXXXXXXXXXXXXXXXXXXXX\n",
      "X                                       X\n",
      "X                                 ml     X\n",
      "X                                       X\n",
      "X                                       X\n",
      "X      A                               pkX\n",
      "X                                       X\n",
      "X  wf                                    X\n",
      "X                                      ftX\n",
      "X                                       X\n",
      "X                                 cv     X\n",
      "X                                       X\n",
      "X                                       X\n",
      "X                            ft          X\n",
      "X ft                     pk               X\n",
      "X                       ml               X\n",
      "X      ch                                X\n",
      "X    sc                                  X\n",
      "X            ft                          X\n",
      "X                                       X\n",
      "X                                       X\n",
      "X                                       X\n",
      "X   mt  cv                     sc   ft  mt   X\n",
      "X                    cvml                 X\n",
      "X                                       X\n",
      "X                       ch               X\n",
      "X     pk                                 X\n",
      "X          ml                ms           X\n",
      "X        ch                              X\n",
      "X       pk                               X\n",
      "X                                       X\n",
      "X                                       X\n",
      "X pk       wf                             X\n",
      "X                                       X\n",
      "X                                      msX\n",
      "X                                    sc  X\n",
      "X                                       X\n",
      "X                                       X\n",
      "X                                       X\n",
      "X                                       X\n",
      "XXXXXXXXXXXXXXXXXXXXXXXXXXXXXXXXXXXXXXXXX\n",
      "Game finished. Total reward: 0.00.\n"
     ]
    }
   ],
   "source": [
    "test_env.play()"
   ]
  },
  {
   "cell_type": "code",
   "execution_count": null,
   "metadata": {},
   "outputs": [],
   "source": []
  },
  {
   "cell_type": "code",
   "execution_count": 1,
   "metadata": {},
   "outputs": [],
   "source": [
    "import argparse\n",
    "import gym\n",
    "import pickle\n",
    "import os\n",
    "import sys"
   ]
  },
  {
   "cell_type": "code",
   "execution_count": 2,
   "metadata": {},
   "outputs": [],
   "source": [
    "ENV_SUBGOAL_AUTOMATA_PREFIX = \"gym_subgoal_automata:\""
   ]
  },
  {
   "cell_type": "code",
   "execution_count": null,
   "metadata": {},
   "outputs": [],
   "source": []
  },
  {
   "cell_type": "code",
   "execution_count": null,
   "metadata": {},
   "outputs": [],
   "source": []
  }
 ],
 "metadata": {
  "kernelspec": {
   "display_name": "project_exp",
   "language": "python",
   "name": "python3"
  },
  "language_info": {
   "codemirror_mode": {
    "name": "ipython",
    "version": 3
   },
   "file_extension": ".py",
   "mimetype": "text/x-python",
   "name": "python",
   "nbconvert_exporter": "python",
   "pygments_lexer": "ipython3",
   "version": "3.10.9"
  },
  "orig_nbformat": 4
 },
 "nbformat": 4,
 "nbformat_minor": 2
}
